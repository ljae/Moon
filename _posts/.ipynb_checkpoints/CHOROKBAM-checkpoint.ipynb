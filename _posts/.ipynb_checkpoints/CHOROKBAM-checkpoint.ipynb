{
 "cells": [
  {
   "cell_type": "markdown",
   "metadata": {},
   "source": [
    "# \"BTS가 드라마를 찍고 있데!\" \n",
    "\n"
   ]
  },
  {
   "cell_type": "markdown",
   "metadata": {},
   "source": [
    "한류의 중심 BTS가 드라마를?\n",
    "방구석 1열을 할 자세를 잡을때가 아니다..."
   ]
  },
  {
   "cell_type": "markdown",
   "metadata": {},
   "source": [
    "이소식과 함께 나의 귀를 꽂히는 와이프의 목소리 "
   ]
  },
  {
   "cell_type": "markdown",
   "metadata": {},
   "source": [
    "# \"주식 사놓으라고 하던데...\""
   ]
  },
  {
   "cell_type": "markdown",
   "metadata": {},
   "source": [
    "가슴이 두근거린다... 벌써 수익율을 재고 있는 나의 가벼움을 다시한번 느낀다"
   ]
  },
  {
   "cell_type": "markdown",
   "metadata": {},
   "source": [
    "# \"주식... 그거 돈 되나? 뭔데 종목이..?\""
   ]
  },
  {
   "cell_type": "markdown",
   "metadata": {},
   "source": [
    "드디어 투자자의 길에 한발짝 다가선것이 아닌가?"
   ]
  },
  {
   "cell_type": "markdown",
   "metadata": {},
   "source": [
    "# \"초록뱀\""
   ]
  },
  {
   "cell_type": "markdown",
   "metadata": {},
   "source": [
    "나의 빠른 손은 앱을 열고 검색에 들어간다.. 앗.. 이런!!\n",
    "두근거리는 가슴을 부여잡고 관심없는 듯 한마디를 건넨다..."
   ]
  },
  {
   "cell_type": "markdown",
   "metadata": {},
   "source": [
    "# \"초록뱀 미디어 야 ? 아니면 컴퍼니야?\""
   ]
  },
  {
   "cell_type": "markdown",
   "metadata": {},
   "source": [
    "나란 미생과 같은 존재는 이제 시장이란 큰 존재를 마주하게 되었다."
   ]
  },
  {
   "cell_type": "markdown",
   "metadata": {},
   "source": [
    "# \"초록뱀 컴퍼니! 한달후에 팔면 된데~\""
   ]
  },
  {
   "cell_type": "markdown",
   "metadata": {},
   "source": [
    "그렇다! 종목코드 052300 느낌이 좋다!"
   ]
  },
  {
   "cell_type": "code",
   "execution_count": null,
   "metadata": {},
   "outputs": [],
   "source": []
  }
 ],
 "metadata": {
  "kernelspec": {
   "display_name": "Python 3",
   "language": "python",
   "name": "python3"
  },
  "language_info": {
   "codemirror_mode": {
    "name": "ipython",
    "version": 3
   },
   "file_extension": ".py",
   "mimetype": "text/x-python",
   "name": "python",
   "nbconvert_exporter": "python",
   "pygments_lexer": "ipython3",
   "version": "3.6.1"
  }
 },
 "nbformat": 4,
 "nbformat_minor": 4
}
