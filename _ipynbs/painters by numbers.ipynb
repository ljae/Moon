{
 "cells": [
  {
   "cell_type": "code",
   "execution_count": 23,
   "id": "b463d1f8",
   "metadata": {},
   "outputs": [
    {
     "name": "stderr",
     "output_type": "stream",
     "text": [
      "/opt/anaconda3/lib/python3.8/site-packages/IPython/core/interactiveshell.py:3165: DtypeWarning: Columns (5,7,10,11,12,13,14,34,35,36,37,38,39,40,41,42,43,44,45,46) have mixed types.Specify dtype option on import or set low_memory=False.\n",
      "  has_raised = await self.run_ast_nodes(code_ast.body, cell_name,\n"
     ]
    },
    {
     "data": {
      "text/plain": [
       "Index(['Object Number', 'Is Highlight', 'Is Timeline Work', 'Is Public Domain',\n",
       "       'Object ID', 'Gallery Number', 'Department', 'AccessionYear',\n",
       "       'Object Name', 'Title', 'Culture', 'Period', 'Dynasty', 'Reign',\n",
       "       'Portfolio', 'Constituent ID', 'Artist Role', 'Artist Prefix',\n",
       "       'Artist Display Name', 'Artist Display Bio', 'Artist Suffix',\n",
       "       'Artist Alpha Sort', 'Artist Nationality', 'Artist Begin Date',\n",
       "       'Artist End Date', 'Artist Gender', 'Artist ULAN URL',\n",
       "       'Artist Wikidata URL', 'Object Date', 'Object Begin Date',\n",
       "       'Object End Date', 'Medium', 'Dimensions', 'Credit Line',\n",
       "       'Geography Type', 'City', 'State', 'County', 'Country', 'Region',\n",
       "       'Subregion', 'Locale', 'Locus', 'Excavation', 'River', 'Classification',\n",
       "       'Rights and Reproduction', 'Link Resource', 'Object Wikidata URL',\n",
       "       'Metadata Date', 'Repository', 'Tags', 'Tags AAT URL',\n",
       "       'Tags Wikidata URL'],\n",
       "      dtype='object')"
      ]
     },
     "execution_count": 23,
     "metadata": {},
     "output_type": "execute_result"
    }
   ],
   "source": [
    "import pandas as pd\n",
    "import numpy as np\n",
    "import seaborn as sns\n",
    "import matplotlib.pyplot as plt\n",
    "from IPython.display import set_matplotlib_formats\n",
    "\n",
    "plt.rc(\"font\", family=\"AppleGothic\")\n",
    "plt.rc(\"axes\", unicode_minus=False)\n",
    "set_matplotlib_formats(\"retina\")\n",
    "\n",
    "df = pd.read_csv(\"../../MetObjects.txt\")\n",
    "\n",
    "\n",
    "df.columns"
   ]
  },
  {
   "cell_type": "code",
   "execution_count": 24,
   "id": "a15906ec",
   "metadata": {},
   "outputs": [
    {
     "name": "stdout",
     "output_type": "stream",
     "text": [
      "<class 'pandas.core.frame.DataFrame'>\n",
      "RangeIndex: 476006 entries, 0 to 476005\n",
      "Data columns (total 54 columns):\n",
      " #   Column                   Non-Null Count   Dtype  \n",
      "---  ------                   --------------   -----  \n",
      " 0   Object Number            476006 non-null  object \n",
      " 1   Is Highlight             476006 non-null  bool   \n",
      " 2   Is Timeline Work         476006 non-null  bool   \n",
      " 3   Is Public Domain         476006 non-null  bool   \n",
      " 4   Object ID                476006 non-null  int64  \n",
      " 5   Gallery Number           46825 non-null   object \n",
      " 6   Department               476006 non-null  object \n",
      " 7   AccessionYear            471629 non-null  object \n",
      " 8   Object Name              474484 non-null  object \n",
      " 9   Title                    446792 non-null  object \n",
      " 10  Culture                  207039 non-null  object \n",
      " 11  Period                   90801 non-null   object \n",
      " 12  Dynasty                  23237 non-null   object \n",
      " 13  Reign                    11225 non-null   object \n",
      " 14  Portfolio                23338 non-null   object \n",
      " 15  Constituent ID           273857 non-null  object \n",
      " 16  Artist Role              271758 non-null  object \n",
      " 17  Artist Prefix            273857 non-null  object \n",
      " 18  Artist Display Name      273857 non-null  object \n",
      " 19  Artist Display Bio       271758 non-null  object \n",
      " 20  Artist Suffix            273809 non-null  object \n",
      " 21  Artist Alpha Sort        273857 non-null  object \n",
      " 22  Artist Nationality       273857 non-null  object \n",
      " 23  Artist Begin Date        273857 non-null  object \n",
      " 24  Artist End Date          273857 non-null  object \n",
      " 25  Artist Gender            102004 non-null  object \n",
      " 26  Artist ULAN URL          218867 non-null  object \n",
      " 27  Artist Wikidata URL      215627 non-null  object \n",
      " 28  Object Date              461816 non-null  object \n",
      " 29  Object Begin Date        476006 non-null  int64  \n",
      " 30  Object End Date          476006 non-null  int64  \n",
      " 31  Medium                   468878 non-null  object \n",
      " 32  Dimensions               400705 non-null  object \n",
      " 33  Credit Line              475604 non-null  object \n",
      " 34  Geography Type           59652 non-null   object \n",
      " 35  City                     32161 non-null   object \n",
      " 36  State                    2550 non-null    object \n",
      " 37  County                   8407 non-null    object \n",
      " 38  Country                  75608 non-null   object \n",
      " 39  Region                   31392 non-null   object \n",
      " 40  Subregion                22093 non-null   object \n",
      " 41  Locale                   15643 non-null   object \n",
      " 42  Locus                    7441 non-null    object \n",
      " 43  Excavation               16034 non-null   object \n",
      " 44  River                    2098 non-null    object \n",
      " 45  Classification           397986 non-null  object \n",
      " 46  Rights and Reproduction  23816 non-null   object \n",
      " 47  Link Resource            476006 non-null  object \n",
      " 48  Object Wikidata URL      22162 non-null   object \n",
      " 49  Metadata Date            0 non-null       float64\n",
      " 50  Repository               476006 non-null  object \n",
      " 51  Tags                     202075 non-null  object \n",
      " 52  Tags AAT URL             202075 non-null  object \n",
      " 53  Tags Wikidata URL        202075 non-null  object \n",
      "dtypes: bool(3), float64(1), int64(3), object(47)\n",
      "memory usage: 186.6+ MB\n"
     ]
    }
   ],
   "source": [
    "df.info()"
   ]
  },
  {
   "cell_type": "code",
   "execution_count": 16,
   "id": "2d9f0726",
   "metadata": {},
   "outputs": [],
   "source": [
    "df = df[df['date'].notnull()]\n",
    "df.isnull().sum().plot.barh(figsize=(8, 9))\n"
   ]
  },
  {
   "cell_type": "code",
   "execution_count": 19,
   "id": "1785d578",
   "metadata": {},
   "outputs": [
    {
     "name": "stdout",
     "output_type": "stream",
     "text": [
      "<class 'pandas.core.frame.DataFrame'>\n",
      "Int64Index: 76887 entries, 0 to 103249\n",
      "Data columns (total 12 columns):\n",
      " #   Column        Non-Null Count  Dtype  \n",
      "---  ------        --------------  -----  \n",
      " 0   artist        76887 non-null  object \n",
      " 1   date          76887 non-null  object \n",
      " 2   genre         76147 non-null  object \n",
      " 3   pixelsx       76887 non-null  float64\n",
      " 4   pixelsy       76887 non-null  float64\n",
      " 5   size_bytes    76887 non-null  float64\n",
      " 6   source        76824 non-null  object \n",
      " 7   style         76419 non-null  object \n",
      " 8   title         76869 non-null  object \n",
      " 9   artist_group  76887 non-null  object \n",
      " 10  in_train      76887 non-null  bool   \n",
      " 11  new_filename  76887 non-null  object \n",
      "dtypes: bool(1), float64(3), object(8)\n",
      "memory usage: 7.1+ MB\n"
     ]
    }
   ],
   "source": [
    "df.info()"
   ]
  },
  {
   "cell_type": "code",
   "execution_count": null,
   "id": "30958612",
   "metadata": {},
   "outputs": [],
   "source": []
  }
 ],
 "metadata": {
  "kernelspec": {
   "display_name": "Python 3",
   "language": "python",
   "name": "python3"
  },
  "language_info": {
   "codemirror_mode": {
    "name": "ipython",
    "version": 3
   },
   "file_extension": ".py",
   "mimetype": "text/x-python",
   "name": "python",
   "nbconvert_exporter": "python",
   "pygments_lexer": "ipython3",
   "version": "3.8.8"
  }
 },
 "nbformat": 4,
 "nbformat_minor": 5
}
