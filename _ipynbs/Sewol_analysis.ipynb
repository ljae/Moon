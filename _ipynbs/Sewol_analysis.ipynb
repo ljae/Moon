{
 "cells": [
  {
   "cell_type": "code",
   "execution_count": 41,
   "id": "da8ac9ce",
   "metadata": {},
   "outputs": [
    {
     "data": {
      "text/html": [
       "<div>\n",
       "<style scoped>\n",
       "    .dataframe tbody tr th:only-of-type {\n",
       "        vertical-align: middle;\n",
       "    }\n",
       "\n",
       "    .dataframe tbody tr th {\n",
       "        vertical-align: top;\n",
       "    }\n",
       "\n",
       "    .dataframe thead th {\n",
       "        text-align: right;\n",
       "    }\n",
       "</style>\n",
       "<table border=\"1\" class=\"dataframe\">\n",
       "  <thead>\n",
       "    <tr style=\"text-align: right;\">\n",
       "      <th></th>\n",
       "      <th>Class_A</th>\n",
       "      <th>Class_B</th>\n",
       "      <th>Class_C</th>\n",
       "      <th>Floor</th>\n",
       "      <th>Position</th>\n",
       "      <th>live</th>\n",
       "      <th>name</th>\n",
       "      <th>age</th>\n",
       "      <th>sex_t</th>\n",
       "    </tr>\n",
       "  </thead>\n",
       "  <tbody>\n",
       "    <tr>\n",
       "      <th>0</th>\n",
       "      <td>선원</td>\n",
       "      <td>갑판부</td>\n",
       "      <td>교대선장</td>\n",
       "      <td>5</td>\n",
       "      <td>앞</td>\n",
       "      <td>생존</td>\n",
       "      <td>이준석</td>\n",
       "      <td>69.0</td>\n",
       "      <td>남</td>\n",
       "    </tr>\n",
       "    <tr>\n",
       "      <th>1</th>\n",
       "      <td>선원</td>\n",
       "      <td>갑판부</td>\n",
       "      <td>1등 항해사</td>\n",
       "      <td>5</td>\n",
       "      <td>앞</td>\n",
       "      <td>생존</td>\n",
       "      <td>강원식</td>\n",
       "      <td>42.0</td>\n",
       "      <td>남</td>\n",
       "    </tr>\n",
       "    <tr>\n",
       "      <th>2</th>\n",
       "      <td>선원</td>\n",
       "      <td>갑판부</td>\n",
       "      <td>1등 항해사(견습)</td>\n",
       "      <td>5</td>\n",
       "      <td>앞</td>\n",
       "      <td>생존</td>\n",
       "      <td>신정훈</td>\n",
       "      <td>34.0</td>\n",
       "      <td>남</td>\n",
       "    </tr>\n",
       "    <tr>\n",
       "      <th>3</th>\n",
       "      <td>선원</td>\n",
       "      <td>갑판부</td>\n",
       "      <td>2등 항해사</td>\n",
       "      <td>5</td>\n",
       "      <td>앞</td>\n",
       "      <td>생존</td>\n",
       "      <td>김영호</td>\n",
       "      <td>47.0</td>\n",
       "      <td>남</td>\n",
       "    </tr>\n",
       "    <tr>\n",
       "      <th>4</th>\n",
       "      <td>선원</td>\n",
       "      <td>갑판부</td>\n",
       "      <td>3등 항해사</td>\n",
       "      <td>5</td>\n",
       "      <td>앞</td>\n",
       "      <td>생존</td>\n",
       "      <td>박한결</td>\n",
       "      <td>26.0</td>\n",
       "      <td>여</td>\n",
       "    </tr>\n",
       "  </tbody>\n",
       "</table>\n",
       "</div>"
      ],
      "text/plain": [
       "  Class_A Class_B     Class_C Floor Position live name   age sex_t\n",
       "0      선원     갑판부        교대선장     5        앞   생존  이준석  69.0     남\n",
       "1      선원     갑판부      1등 항해사     5        앞   생존  강원식  42.0     남\n",
       "2      선원     갑판부  1등 항해사(견습)     5        앞   생존  신정훈  34.0     남\n",
       "3      선원     갑판부      2등 항해사     5        앞   생존  김영호  47.0     남\n",
       "4      선원     갑판부      3등 항해사     5        앞   생존  박한결  26.0     여"
      ]
     },
     "execution_count": 41,
     "metadata": {},
     "output_type": "execute_result"
    }
   ],
   "source": [
    "import numpy as np # linear algebra\n",
    "import pandas as pd # data processing, CSV file I/O (e.g. pd.read_csv)\n",
    "import seaborn as sns\n",
    "import matplotlib.pyplot as plt\n",
    "import matplotlib as mpl\n",
    "Sewol = pd.read_csv('./sewol.csv')\n",
    "Sewol.columns = [\"Class_A\",\"Class_B\",\"Class_C\",\"Floor\",\"Position\",\"live\",\"sex\",\"sex_p\",\"name\",\"age\",\"etc\",\"info\",\"info_1\",\"info_2\",\"info_3\",\"info_4\"]\n",
    "Sewol = Sewol.iloc[:,:10]\n",
    "Sewol = Sewol.fillna({'age':np.round(Sewol['age'].mean()),'Position':Sewol['Position'].mode()[0],'Class_B':Sewol['Class_B'].mode()[0],'Class_C':Sewol['Class_C'].mode()[0]})\n",
    "Sewol['sex_t'] = np.where(pd.isnull(Sewol['sex']),Sewol['sex_p'],Sewol['sex'])\n",
    "Sewol = Sewol.drop(['sex','sex_p'],axis=1)\n",
    "Sewol.head()"
   ]
  },
  {
   "cell_type": "code",
   "execution_count": 44,
   "id": "9eee23d5",
   "metadata": {},
   "outputs": [
    {
     "name": "stderr",
     "output_type": "stream",
     "text": [
      "/opt/anaconda3/lib/python3.8/site-packages/matplotlib/backends/backend_agg.py:238: RuntimeWarning: Glyph 49440 missing from current font.\n",
      "  font.set_text(s, 0.0, flags=flags)\n",
      "/opt/anaconda3/lib/python3.8/site-packages/matplotlib/backends/backend_agg.py:238: RuntimeWarning: Glyph 50896 missing from current font.\n",
      "  font.set_text(s, 0.0, flags=flags)\n",
      "/opt/anaconda3/lib/python3.8/site-packages/matplotlib/backends/backend_agg.py:238: RuntimeWarning: Glyph 45800 missing from current font.\n",
      "  font.set_text(s, 0.0, flags=flags)\n",
      "/opt/anaconda3/lib/python3.8/site-packages/matplotlib/backends/backend_agg.py:238: RuntimeWarning: Glyph 44256 missing from current font.\n",
      "  font.set_text(s, 0.0, flags=flags)\n",
      "/opt/anaconda3/lib/python3.8/site-packages/matplotlib/backends/backend_agg.py:238: RuntimeWarning: Glyph 51068 missing from current font.\n",
      "  font.set_text(s, 0.0, flags=flags)\n",
      "/opt/anaconda3/lib/python3.8/site-packages/matplotlib/backends/backend_agg.py:238: RuntimeWarning: Glyph 48152 missing from current font.\n",
      "  font.set_text(s, 0.0, flags=flags)\n",
      "/opt/anaconda3/lib/python3.8/site-packages/matplotlib/backends/backend_agg.py:238: RuntimeWarning: Glyph 45224 missing from current font.\n",
      "  font.set_text(s, 0.0, flags=flags)\n",
      "/opt/anaconda3/lib/python3.8/site-packages/matplotlib/backends/backend_agg.py:238: RuntimeWarning: Glyph 50668 missing from current font.\n",
      "  font.set_text(s, 0.0, flags=flags)\n",
      "/opt/anaconda3/lib/python3.8/site-packages/matplotlib/backends/backend_agg.py:201: RuntimeWarning: Glyph 49440 missing from current font.\n",
      "  font.set_text(s, 0, flags=flags)\n",
      "/opt/anaconda3/lib/python3.8/site-packages/matplotlib/backends/backend_agg.py:201: RuntimeWarning: Glyph 50896 missing from current font.\n",
      "  font.set_text(s, 0, flags=flags)\n",
      "/opt/anaconda3/lib/python3.8/site-packages/matplotlib/backends/backend_agg.py:201: RuntimeWarning: Glyph 45800 missing from current font.\n",
      "  font.set_text(s, 0, flags=flags)\n",
      "/opt/anaconda3/lib/python3.8/site-packages/matplotlib/backends/backend_agg.py:201: RuntimeWarning: Glyph 44256 missing from current font.\n",
      "  font.set_text(s, 0, flags=flags)\n",
      "/opt/anaconda3/lib/python3.8/site-packages/matplotlib/backends/backend_agg.py:201: RuntimeWarning: Glyph 51068 missing from current font.\n",
      "  font.set_text(s, 0, flags=flags)\n",
      "/opt/anaconda3/lib/python3.8/site-packages/matplotlib/backends/backend_agg.py:201: RuntimeWarning: Glyph 48152 missing from current font.\n",
      "  font.set_text(s, 0, flags=flags)\n",
      "/opt/anaconda3/lib/python3.8/site-packages/matplotlib/backends/backend_agg.py:201: RuntimeWarning: Glyph 45224 missing from current font.\n",
      "  font.set_text(s, 0, flags=flags)\n",
      "/opt/anaconda3/lib/python3.8/site-packages/matplotlib/backends/backend_agg.py:201: RuntimeWarning: Glyph 50668 missing from current font.\n",
      "  font.set_text(s, 0, flags=flags)\n"
     ]
    },
    {
     "data": {
      "image/png": "[encoded data removed]",
      "text/plain": [
       "<Figure size 432x288 with 1 Axes>"
      ]
     },
     "metadata": {},
     "output_type": "display_data"
    }
   ],
   "source": [
    "sns.set_style('whitegrid')\n",
    "sns.countplot(x=\"Class_A\", hue=\"sex_t\", data=Sewol)\n",
    "plt.show()"
   ]
  },
  {
   "cell_type": "code",
   "execution_count": null,
   "id": "4fc1912d",
   "metadata": {},
   "outputs": [],
   "source": []
  }
 ],
 "metadata": {
  "kernelspec": {
   "display_name": "Python 3",
   "language": "python",
   "name": "python3"
  },
  "language_info": {
   "codemirror_mode": {
    "name": "ipython",
    "version": 3
   },
   "file_extension": ".py",
   "mimetype": "text/x-python",
   "name": "python",
   "nbconvert_exporter": "python",
   "pygments_lexer": "ipython3",
   "version": "3.8.8"
  }
 },
 "nbformat": 4,
 "nbformat_minor": 5
}
